{
 "cells": [
  {
   "cell_type": "markdown",
   "id": "41a6b0a8",
   "metadata": {},
   "source": [
    "# Web Scraping Project"
   ]
  },
  {
   "cell_type": "markdown",
   "id": "527feff6",
   "metadata": {},
   "source": [
    "## Graham Website "
   ]
  },
  {
   "cell_type": "code",
   "execution_count": 73,
   "id": "7f013028",
   "metadata": {},
   "outputs": [],
   "source": [
    "# Importing Libraries\n",
    "import requests\n",
    "from bs4 import BeautifulSoup\n",
    "from lxml import etree\n",
    "import pandas as pd "
   ]
  },
  {
   "cell_type": "code",
   "execution_count": 79,
   "id": "b67b8b07",
   "metadata": {},
   "outputs": [],
   "source": [
    "# Parsing URL\n",
    "url = 'https://graham1695.com'\n",
    "main_html = requests.get(url)\n",
    "main_soup = BeautifulSoup(main_html.content, \"html.parser\")"
   ]
  },
  {
   "cell_type": "code",
   "execution_count": 80,
   "id": "05a18f5f",
   "metadata": {},
   "outputs": [],
   "source": [
    "for link in main_soup.find_all(\"a\", href=True):\n",
    "    if \"find my graham\" in str(link).lower():\n",
    "        break"
   ]
  },
  {
   "cell_type": "code",
   "execution_count": 81,
   "id": "df52424e",
   "metadata": {},
   "outputs": [],
   "source": [
    "url_ext = str(link)[str(link).find(\"href=\")+len(\"href=\"):str(link).find(\">\")].replace('\"',\"\")\n",
    "watches_url = url+url_ext"
   ]
  },
  {
   "cell_type": "code",
   "execution_count": 82,
   "id": "9d66fd67",
   "metadata": {},
   "outputs": [],
   "source": [
    "html = requests.get(watches_url)\n",
    "soup = BeautifulSoup(html.content, \"html.parser\")"
   ]
  },
  {
   "cell_type": "code",
   "execution_count": 93,
   "id": "92ef0e5a",
   "metadata": {
    "scrolled": true
   },
   "outputs": [],
   "source": [
    "pages = soup.find_all(attrs={'class': 'pagination'})"
   ]
  },
  {
   "cell_type": "code",
   "execution_count": 94,
   "id": "c98711af",
   "metadata": {},
   "outputs": [],
   "source": [
    "products = soup.find_all(\"div\", attrs={'class': 'grid-product'})"
   ]
  },
  {
   "cell_type": "code",
   "execution_count": 95,
   "id": "d6c43e65",
   "metadata": {},
   "outputs": [],
   "source": [
    "data_set = pd.read_csv(\"Graham - Test Scrapes - Sample Data.csv\")"
   ]
  },
  {
   "cell_type": "code",
   "execution_count": 96,
   "id": "89316a0b",
   "metadata": {},
   "outputs": [
    {
     "data": {
      "text/html": [
       "<div>\n",
       "<style scoped>\n",
       "    .dataframe tbody tr th:only-of-type {\n",
       "        vertical-align: middle;\n",
       "    }\n",
       "\n",
       "    .dataframe tbody tr th {\n",
       "        vertical-align: top;\n",
       "    }\n",
       "\n",
       "    .dataframe thead th {\n",
       "        text-align: right;\n",
       "    }\n",
       "</style>\n",
       "<table border=\"1\" class=\"dataframe\">\n",
       "  <thead>\n",
       "    <tr style=\"text-align: right;\">\n",
       "      <th></th>\n",
       "      <th>field name</th>\n",
       "      <th>reference_number</th>\n",
       "      <th>watch_URL</th>\n",
       "      <th>type</th>\n",
       "      <th>brand</th>\n",
       "      <th>year_introduced</th>\n",
       "      <th>parent_model</th>\n",
       "      <th>specific_model</th>\n",
       "      <th>nickname</th>\n",
       "      <th>marketing_name</th>\n",
       "      <th>...</th>\n",
       "      <th>bracelet_color</th>\n",
       "      <th>clasp_type</th>\n",
       "      <th>movement</th>\n",
       "      <th>caliber</th>\n",
       "      <th>power_reserve</th>\n",
       "      <th>frequency</th>\n",
       "      <th>jewels</th>\n",
       "      <th>features</th>\n",
       "      <th>description</th>\n",
       "      <th>short_description</th>\n",
       "    </tr>\n",
       "  </thead>\n",
       "  <tbody>\n",
       "    <tr>\n",
       "      <th>0</th>\n",
       "      <td>value</td>\n",
       "      <td>2CCCK.O01A</td>\n",
       "      <td>https://graham1695.com/collections/chronofight...</td>\n",
       "      <td>NaN</td>\n",
       "      <td>Graham</td>\n",
       "      <td>NaN</td>\n",
       "      <td>Chronofighter Superlight</td>\n",
       "      <td>CHRONOFIGHTER SUPERLIGHT CARBON SKELETON - TRA...</td>\n",
       "      <td>CHRONOFIGHTER SUPERLIGHT CARBON SKELETON - TRA...</td>\n",
       "      <td>NaN</td>\n",
       "      <td>...</td>\n",
       "      <td>NaN</td>\n",
       "      <td>NaN</td>\n",
       "      <td>NaN</td>\n",
       "      <td>NaN</td>\n",
       "      <td>NaN</td>\n",
       "      <td>NaN</td>\n",
       "      <td>NaN</td>\n",
       "      <td>NaN</td>\n",
       "      <td>As part of Graham's 25th anniversary celebrati...</td>\n",
       "      <td>https://cdn.shopify.com/s/files/1/0274/0921/96...</td>\n",
       "    </tr>\n",
       "    <tr>\n",
       "      <th>1</th>\n",
       "      <td>notes</td>\n",
       "      <td>below product title</td>\n",
       "      <td>NaN</td>\n",
       "      <td>NaN</td>\n",
       "      <td>NaN</td>\n",
       "      <td>NaN</td>\n",
       "      <td>from product breadcrumbs</td>\n",
       "      <td>product title</td>\n",
       "      <td>product title</td>\n",
       "      <td>if the page says \"Limited Edition\" anywhere, s...</td>\n",
       "      <td>...</td>\n",
       "      <td>NaN</td>\n",
       "      <td>NaN</td>\n",
       "      <td>NaN</td>\n",
       "      <td>NaN</td>\n",
       "      <td>NaN</td>\n",
       "      <td>NaN</td>\n",
       "      <td>NaN</td>\n",
       "      <td>NaN</td>\n",
       "      <td>description on product page</td>\n",
       "      <td>link to the PDF on the product page</td>\n",
       "    </tr>\n",
       "  </tbody>\n",
       "</table>\n",
       "<p>2 rows × 41 columns</p>\n",
       "</div>"
      ],
      "text/plain": [
       "  field name     reference_number  \\\n",
       "0      value           2CCCK.O01A   \n",
       "1      notes  below product title   \n",
       "\n",
       "                                           watch_URL  type   brand  \\\n",
       "0  https://graham1695.com/collections/chronofight...   NaN  Graham   \n",
       "1                                                NaN   NaN     NaN   \n",
       "\n",
       "   year_introduced              parent_model  \\\n",
       "0              NaN  Chronofighter Superlight   \n",
       "1              NaN  from product breadcrumbs   \n",
       "\n",
       "                                      specific_model  \\\n",
       "0  CHRONOFIGHTER SUPERLIGHT CARBON SKELETON - TRA...   \n",
       "1                                      product title   \n",
       "\n",
       "                                            nickname  \\\n",
       "0  CHRONOFIGHTER SUPERLIGHT CARBON SKELETON - TRA...   \n",
       "1                                      product title   \n",
       "\n",
       "                                      marketing_name  ...  bracelet_color  \\\n",
       "0                                                NaN  ...             NaN   \n",
       "1  if the page says \"Limited Edition\" anywhere, s...  ...             NaN   \n",
       "\n",
       "  clasp_type  movement caliber power_reserve  frequency  jewels  features  \\\n",
       "0        NaN       NaN     NaN           NaN        NaN     NaN       NaN   \n",
       "1        NaN       NaN     NaN           NaN        NaN     NaN       NaN   \n",
       "\n",
       "                                         description  \\\n",
       "0  As part of Graham's 25th anniversary celebrati...   \n",
       "1                        description on product page   \n",
       "\n",
       "                                   short_description  \n",
       "0  https://cdn.shopify.com/s/files/1/0274/0921/96...  \n",
       "1                link to the PDF on the product page  \n",
       "\n",
       "[2 rows x 41 columns]"
      ]
     },
     "execution_count": 96,
     "metadata": {},
     "output_type": "execute_result"
    }
   ],
   "source": [
    "data_set.head()"
   ]
  },
  {
   "cell_type": "code",
   "execution_count": null,
   "id": "993a1e26",
   "metadata": {},
   "outputs": [],
   "source": []
  }
 ],
 "metadata": {
  "kernelspec": {
   "display_name": "Python 3 (ipykernel)",
   "language": "python",
   "name": "python3"
  },
  "language_info": {
   "codemirror_mode": {
    "name": "ipython",
    "version": 3
   },
   "file_extension": ".py",
   "mimetype": "text/x-python",
   "name": "python",
   "nbconvert_exporter": "python",
   "pygments_lexer": "ipython3",
   "version": "3.9.13"
  }
 },
 "nbformat": 4,
 "nbformat_minor": 5
}
