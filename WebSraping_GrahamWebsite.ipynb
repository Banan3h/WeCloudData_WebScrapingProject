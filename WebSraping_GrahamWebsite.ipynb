{
 "cells": [
  {
   "cell_type": "markdown",
   "id": "41a6b0a8",
   "metadata": {},
   "source": [
    "# Web Scraping Project"
   ]
  },
  {
   "cell_type": "markdown",
   "id": "527feff6",
   "metadata": {},
   "source": [
    "## Graham Website "
   ]
  },
  {
   "cell_type": "code",
   "execution_count": 1,
   "id": "7f013028",
   "metadata": {},
   "outputs": [],
   "source": [
    "# Importing Libraries\n",
    "import requests\n",
    "from bs4 import BeautifulSoup\n",
    "from lxml import etree\n",
    "import pandas as pd "
   ]
  },
  {
   "cell_type": "code",
   "execution_count": 2,
   "id": "b67b8b07",
   "metadata": {},
   "outputs": [],
   "source": [
    "# Parsing URL\n",
    "url = 'https://graham1695.com'\n",
    "html = requests.get(url)\n",
    "soup = BeautifulSoup(html.content, \"html.parser\")\n",
    "dom = etree.HTML(str(soup))"
   ]
  },
  {
   "cell_type": "code",
   "execution_count": 4,
   "id": "247d16bf",
   "metadata": {},
   "outputs": [],
   "source": [
    "watches_page = dom.xpath('//*[@id=\"shopify-section-template--14575957901376__a12a6a01-158b-4af1-a101-a27adf00fc82\"]/div/div/div/div[1]/a')[0]"
   ]
  },
  {
   "cell_type": "code",
   "execution_count": 33,
   "id": "acb4bd1e",
   "metadata": {},
   "outputs": [
    {
     "name": "stdout",
     "output_type": "stream",
     "text": [
      "<a class=\"promo-grid__container promo-grid__container--tint vertical-center horizontal-center\" href=\"/collections/new-collection\">\n",
      "<div class=\"promo-grid__bg\"><img alt=\"\" class=\"image-fit lazyload\" data-aspectratio=\"1.7777777777777777\" data-sizes=\"auto\" data-src=\"//graham1695.com/cdn/shop/files/GRAHAM_Watches_retailers_2_{width}x.jpg?v=1675325633\" src=\"\"/></div>\n",
      "<div class=\"promo-grid__content\">\n",
      "<div class=\"promo-grid__text text-center\">\n",
      "<p class=\"promo-grid__title h2\">FIND MY GRAHAM\n",
      "</p>\n",
      "</div>\n",
      "</div>\n",
      "</a>\n"
     ]
    }
   ],
   "source": [
    "for link in soup.find_all(\"a\", href=True):\n",
    "    if \"find my graham\" in str(link).lower():\n",
    "        print(link)"
   ]
  },
  {
   "cell_type": "code",
   "execution_count": null,
   "id": "df52424e",
   "metadata": {},
   "outputs": [],
   "source": []
  }
 ],
 "metadata": {
  "kernelspec": {
   "display_name": "Python 3 (ipykernel)",
   "language": "python",
   "name": "python3"
  },
  "language_info": {
   "codemirror_mode": {
    "name": "ipython",
    "version": 3
   },
   "file_extension": ".py",
   "mimetype": "text/x-python",
   "name": "python",
   "nbconvert_exporter": "python",
   "pygments_lexer": "ipython3",
   "version": "3.9.13"
  }
 },
 "nbformat": 4,
 "nbformat_minor": 5
}
