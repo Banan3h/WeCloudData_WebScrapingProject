{
 "cells": [
  {
   "cell_type": "markdown",
   "id": "41a6b0a8",
   "metadata": {},
   "source": [
    "# Web Scraping Project"
   ]
  },
  {
   "cell_type": "markdown",
   "id": "527feff6",
   "metadata": {},
   "source": [
    "## Graham Website "
   ]
  },
  {
   "cell_type": "code",
   "execution_count": 613,
   "id": "7f013028",
   "metadata": {},
   "outputs": [],
   "source": [
    "# Importing Libraries\n",
    "import requests\n",
    "from bs4 import BeautifulSoup\n",
    "from lxml import etree\n",
    "import pandas as pd "
   ]
  },
  {
   "cell_type": "markdown",
   "id": "bbe0781c",
   "metadata": {},
   "source": [
    "### Parsing Graham Webpage "
   ]
  },
  {
   "cell_type": "code",
   "execution_count": 614,
   "id": "b67b8b07",
   "metadata": {},
   "outputs": [],
   "source": [
    "# Parsing URL\n",
    "main_url = 'https://graham1695.com'\n",
    "main_html = requests.get(main_url)\n",
    "main_soup = BeautifulSoup(main_html.content, \"html.parser\")"
   ]
  },
  {
   "cell_type": "markdown",
   "id": "d9096315",
   "metadata": {},
   "source": [
    "### Parsing The Webpage of All The Watches "
   ]
  },
  {
   "cell_type": "code",
   "execution_count": 615,
   "id": "6f36a09f",
   "metadata": {},
   "outputs": [],
   "source": [
    "for a in main_soup.find_all(\"a\", href=True):\n",
    "    if \"find my graham\" in str(a).lower():\n",
    "        break"
   ]
  },
  {
   "cell_type": "code",
   "execution_count": 616,
   "id": "df52424e",
   "metadata": {},
   "outputs": [],
   "source": [
    "url_ext = str(a)[str(a).find(\"href=\")+len(\"href=\"):str(a).find(\">\")].replace('\"',\"\")\n",
    "url = main_url+url_ext"
   ]
  },
  {
   "cell_type": "code",
   "execution_count": 617,
   "id": "bbdd67c0",
   "metadata": {},
   "outputs": [],
   "source": [
    "html = requests.get(url)\n",
    "soup = BeautifulSoup(html.content, \"html.parser\")"
   ]
  },
  {
   "cell_type": "markdown",
   "id": "35e8482a",
   "metadata": {},
   "source": [
    "#### Parsing The Pages"
   ]
  },
  {
   "cell_type": "code",
   "execution_count": 618,
   "id": "3a55cb89",
   "metadata": {
    "scrolled": false
   },
   "outputs": [],
   "source": [
    "# Rotating through the pages\n",
    "#pages_element = soup.find_all(\"span\", attrs={\"class\": \"page\"})\n",
    "#pages_url = [watches_url]\n",
    "#for element in pages_element:\n",
    "#    a = element.find_all(\"a\", href=True)\n",
    "#    if a != []:\n",
    "#        pages_url.append(main_url+str(a[0])[str(a).find('\"'):str(a).find(\">\")-2])"
   ]
  },
  {
   "cell_type": "markdown",
   "id": "e9c6d5d6",
   "metadata": {},
   "source": [
    "#### Parsing The Products Webpages"
   ]
  },
  {
   "cell_type": "code",
   "execution_count": 619,
   "id": "5885101d",
   "metadata": {},
   "outputs": [],
   "source": [
    "# Finding the products urls\n",
    "#products_url = []\n",
    "#for page_url in pages_url:\n",
    "#    page_html = requests.get(page_url)\n",
    "#    page_soup = BeautifulSoup(page_html.content, \"html.parser\")\n",
    "#    products = page_soup.find_all(\"div\", attrs={\"class\": \"grid-product\"})\n",
    "#    for i in range(len(products)):\n",
    "#        a = str(products[i].find_all(\"a\")[0])\n",
    "#        products_url.append(main_url+a[a.find(\"href=\")+len(\"href=\"):a.find(\">\")].replace('\"',\"\"))\n",
    "#products_url = list(set(products_url))"
   ]
  },
  {
   "cell_type": "markdown",
   "id": "c57ff108",
   "metadata": {},
   "source": [
    "#### Parsing Watches Per Collection"
   ]
  },
  {
   "cell_type": "code",
   "execution_count": 633,
   "id": "a51ebb0a",
   "metadata": {},
   "outputs": [],
   "source": [
    "collections = soup.find_all(\"div\", attrs={\"class\":\"collection-sidebar__group--1\"})[0].find_all(\"span\", attrs={\"class\":\"tag__text\"})\n",
    "collections = [collection.text for collection in collections]\n",
    "watches_per_collection = {collection: [] for collection in collections}"
   ]
  },
  {
   "cell_type": "code",
   "execution_count": 626,
   "id": "867ebd04",
   "metadata": {},
   "outputs": [],
   "source": [
    "products_url = []\n",
    "for collection in collections:\n",
    "    filter_url = \"?filter.p.m.custom.collection=\"\n",
    "    collection_url = url+filter_url+collection.replace(\" \", \"+\")\n",
    "    collection_html = requests.get(collection_url)\n",
    "    collection_soup = BeautifulSoup(collection_html.content, \"html.parser\")\n",
    "    watches_element = collection_soup.find_all(\"div\", attrs={\"class\": \"collection-grid__wrapper\"})[0].find_all(\"div\", attrs={\"class\": \"grid-product\"})\n",
    "    watches_per_collection[collection].extend([watches_element[i].find(\"div\", attrs={\"class\": \"grid-product__title\"}).text for i in range(len(watches_element))])\n",
    "    next_page = collection_soup.find_all(\"span\", attrs={\"class\": \"page\"})\n",
    "    products = collection_soup.find_all(\"div\", attrs={\"class\": \"grid-product\"})\n",
    "    for i in range(len(products)):\n",
    "        a = str(products[i].find_all(\"a\")[0])\n",
    "        products_url.append(main_url+a[a.find(\"href=\")+len(\"href=\"):a.find(\">\")].replace('\"',\"\"))\n",
    "    if next_page != []:\n",
    "        for page in next_page[1:]:\n",
    "            next_page_url = main_url+page.find(\"a\").attrs[\"href\"]\n",
    "            next_page_html = requests.get(next_page_url)\n",
    "            next_page_soup = BeautifulSoup(next_page_html.content, \"html.parser\")\n",
    "            watches_element = collection_soup.find_all(\"div\", attrs={\"class\": \"collection-grid__wrapper\"})[0].find_all(\"div\", attrs={\"class\": \"grid-product\"})\n",
    "            watches_per_collection[collection].extend([watches_element[i].find(\"div\", attrs={\"class\": \"grid-product__title\"}).text for i in range(len(watches_element))])\n",
    "            products = collection_soup.find_all(\"div\", attrs={\"class\": \"grid-product\"})\n",
    "            for i in range(len(products)):\n",
    "                a = str(products[i].find_all(\"a\")[0])\n",
    "                products_url.append(main_url+a[a.find(\"href=\")+len(\"href=\"):a.find(\">\")].replace('\"',\"\"))\n",
    "products_url = list(set(products_url))"
   ]
  },
  {
   "cell_type": "markdown",
   "id": "f3c1283a",
   "metadata": {},
   "source": [
    "### Accessing All The Products Webpages"
   ]
  },
  {
   "cell_type": "markdown",
   "id": "c99b384c",
   "metadata": {},
   "source": [
    "#### Creating A Function For The Required Information"
   ]
  },
  {
   "cell_type": "code",
   "execution_count": 645,
   "id": "05ec62ed",
   "metadata": {},
   "outputs": [],
   "source": [
    "def get_information(dct, soup, url, collections):\n",
    "    # reference number\n",
    "    try:\n",
    "        dct[\"reference_number\"]=soup.find_all(attrs={\"class\": \"product-single__sku\"})[0].text.replace(\"\\n\",\"\")\n",
    "    except:\n",
    "        dct[\"reference_number\"]=\"\"\n",
    "    # watch url\n",
    "    dct[\"watch_URL\"]=url\n",
    "    # brand\n",
    "    dct[\"brand\"]=\"Graham\"\n",
    "    # parent model\n",
    "    for key in collections.keys():\n",
    "        if data_dict[\"specific_model\"] in collections[key]:\n",
    "            dct[\"parent_model\"]=key\n",
    "    # specific model\n",
    "    dct[\"specific_model\"]=soup.find_all(\"h1\")[0].text.replace(\"\\n\",\"\")\n",
    "    # nickname\n",
    "    dct[\"nickname\"]=soup.find_all(\"h1\")[0].text.replace(\"\\n\",\"\")\n",
    "    # marketing name\n",
    "    for h2 in soup.find_all(\"h2\"):\n",
    "        if \"LIMITED EDITION\" in h2.text:\n",
    "            dct[\"marketing_name\"]=\"Limited Edition\"\n",
    "    # currency and price\n",
    "    symbol = soup.find_all(attrs={\"class\": \"product__price\"})[0].text.replace(\"\\n\",\"\")[0]\n",
    "    price = soup.find_all(attrs={\"class\": \"product__price\"})[0].text.replace(\"\\n\",\"\")[1:]\n",
    "    if symbol == \"$\":\n",
    "        currency = \"USD\"\n",
    "    elif symbol == \"€\":\n",
    "        currency = \"EUR\"\n",
    "    elif symbol == \"C\":\n",
    "        currency = \"CHF\"\n",
    "        price = soup.find_all(attrs={\"class\": \"product__price\"})[0].text.replace(\"\\n\",\"\")[4:]\n",
    "    else:\n",
    "        currency = \"\"\n",
    "    dct[\"currency\"]=currency\n",
    "    dct[\"price\"]=price\n",
    "    # image url\n",
    "    for img in soup.find_all(\"img\"):\n",
    "        if dct[\"specific_model\"][0] in str(img):\n",
    "            break\n",
    "    img_url = str(img)[str(img).find(\"data-photoswipe-src=\")+len(\"data-photoswipe-src=\")\n",
    "                 :str(img).find(\"data-photoswipe-src=\")+str(img)[str(img).find(\"data-photoswipe-src=\"):].find(\" \")\n",
    "                        ].replace('\"',\"\").replace(\"//\",\"\")\n",
    "    dct[\"image_URL\"]=img_url\n",
    "    # made in\n",
    "    dct[\"made_in\"]=\"Switzerland\"\n",
    "    # descriprion\n",
    "    try:\n",
    "        element = soup.find_all(\"div\", attrs={\"class\": \"filter-result-content\"})[0]\n",
    "    except:\n",
    "        element = soup.find_all(\"div\", attrs={\"class\": \"rte\"})[0]\n",
    "    description = []\n",
    "    while True:\n",
    "        if element.name == \"div\":\n",
    "            element = element.find_next()\n",
    "            continue\n",
    "        elif element.name == \"p\":\n",
    "            description.append(element.text)\n",
    "            element = element.find_next()\n",
    "        else:\n",
    "            break\n",
    "    dct[\"description\"]=description\n",
    "    # short descriprion\n",
    "    for element in soup.find_all(\"div\", attrs={\"class\": \"rte\"}):\n",
    "        if \"TECHNICAL SHEET\" in str(element):\n",
    "            a = str(element.find(\"a\"))\n",
    "            break\n",
    "    pdf_url = a[a.find(\"href=\")+len(\"href=\")+1: a.find(\" title\")-len(\" title\")]\n",
    "    dct[\"short_description\"]=pdf_url\n",
    "    # returning the information\n",
    "    return dct"
   ]
  },
  {
   "cell_type": "markdown",
   "id": "48b1fc99",
   "metadata": {},
   "source": [
    "#### Going Through Each Page to Obtain The Required Information"
   ]
  },
  {
   "cell_type": "code",
   "execution_count": 649,
   "id": "e9954b64",
   "metadata": {},
   "outputs": [],
   "source": [
    "# Getting the csv template\n",
    "data_set = pd.read_csv(\"Graham - Test Scrapes - Sample Data.csv\")\n",
    "data_set = data_set.iloc[: , 1:]\n",
    "data_set = data_set.drop([0,1])\n",
    "data_dict = {column : \"\" for column in data_set.columns}"
   ]
  },
  {
   "cell_type": "code",
   "execution_count": 650,
   "id": "48fc8708",
   "metadata": {},
   "outputs": [
    {
     "name": "stderr",
     "output_type": "stream",
     "text": [
      "/var/folders/45/y4_7bsn91fx5ltkk45x0wzpc0000gn/T/ipykernel_50780/2642664573.py:6: FutureWarning: The frame.append method is deprecated and will be removed from pandas in a future version. Use pandas.concat instead.\n",
      "  data_set = data_set.append(product_dict, ignore_index = True)\n",
      "/var/folders/45/y4_7bsn91fx5ltkk45x0wzpc0000gn/T/ipykernel_50780/2642664573.py:6: FutureWarning: The frame.append method is deprecated and will be removed from pandas in a future version. Use pandas.concat instead.\n",
      "  data_set = data_set.append(product_dict, ignore_index = True)\n",
      "/var/folders/45/y4_7bsn91fx5ltkk45x0wzpc0000gn/T/ipykernel_50780/2642664573.py:6: FutureWarning: The frame.append method is deprecated and will be removed from pandas in a future version. Use pandas.concat instead.\n",
      "  data_set = data_set.append(product_dict, ignore_index = True)\n",
      "/var/folders/45/y4_7bsn91fx5ltkk45x0wzpc0000gn/T/ipykernel_50780/2642664573.py:6: FutureWarning: The frame.append method is deprecated and will be removed from pandas in a future version. Use pandas.concat instead.\n",
      "  data_set = data_set.append(product_dict, ignore_index = True)\n",
      "/var/folders/45/y4_7bsn91fx5ltkk45x0wzpc0000gn/T/ipykernel_50780/2642664573.py:6: FutureWarning: The frame.append method is deprecated and will be removed from pandas in a future version. Use pandas.concat instead.\n",
      "  data_set = data_set.append(product_dict, ignore_index = True)\n",
      "/var/folders/45/y4_7bsn91fx5ltkk45x0wzpc0000gn/T/ipykernel_50780/2642664573.py:6: FutureWarning: The frame.append method is deprecated and will be removed from pandas in a future version. Use pandas.concat instead.\n",
      "  data_set = data_set.append(product_dict, ignore_index = True)\n",
      "/var/folders/45/y4_7bsn91fx5ltkk45x0wzpc0000gn/T/ipykernel_50780/2642664573.py:6: FutureWarning: The frame.append method is deprecated and will be removed from pandas in a future version. Use pandas.concat instead.\n",
      "  data_set = data_set.append(product_dict, ignore_index = True)\n",
      "/var/folders/45/y4_7bsn91fx5ltkk45x0wzpc0000gn/T/ipykernel_50780/2642664573.py:6: FutureWarning: The frame.append method is deprecated and will be removed from pandas in a future version. Use pandas.concat instead.\n",
      "  data_set = data_set.append(product_dict, ignore_index = True)\n",
      "/var/folders/45/y4_7bsn91fx5ltkk45x0wzpc0000gn/T/ipykernel_50780/2642664573.py:6: FutureWarning: The frame.append method is deprecated and will be removed from pandas in a future version. Use pandas.concat instead.\n",
      "  data_set = data_set.append(product_dict, ignore_index = True)\n",
      "/var/folders/45/y4_7bsn91fx5ltkk45x0wzpc0000gn/T/ipykernel_50780/2642664573.py:6: FutureWarning: The frame.append method is deprecated and will be removed from pandas in a future version. Use pandas.concat instead.\n",
      "  data_set = data_set.append(product_dict, ignore_index = True)\n",
      "/var/folders/45/y4_7bsn91fx5ltkk45x0wzpc0000gn/T/ipykernel_50780/2642664573.py:6: FutureWarning: The frame.append method is deprecated and will be removed from pandas in a future version. Use pandas.concat instead.\n",
      "  data_set = data_set.append(product_dict, ignore_index = True)\n",
      "/var/folders/45/y4_7bsn91fx5ltkk45x0wzpc0000gn/T/ipykernel_50780/2642664573.py:6: FutureWarning: The frame.append method is deprecated and will be removed from pandas in a future version. Use pandas.concat instead.\n",
      "  data_set = data_set.append(product_dict, ignore_index = True)\n",
      "/var/folders/45/y4_7bsn91fx5ltkk45x0wzpc0000gn/T/ipykernel_50780/2642664573.py:6: FutureWarning: The frame.append method is deprecated and will be removed from pandas in a future version. Use pandas.concat instead.\n",
      "  data_set = data_set.append(product_dict, ignore_index = True)\n",
      "/var/folders/45/y4_7bsn91fx5ltkk45x0wzpc0000gn/T/ipykernel_50780/2642664573.py:6: FutureWarning: The frame.append method is deprecated and will be removed from pandas in a future version. Use pandas.concat instead.\n",
      "  data_set = data_set.append(product_dict, ignore_index = True)\n",
      "/var/folders/45/y4_7bsn91fx5ltkk45x0wzpc0000gn/T/ipykernel_50780/2642664573.py:6: FutureWarning: The frame.append method is deprecated and will be removed from pandas in a future version. Use pandas.concat instead.\n",
      "  data_set = data_set.append(product_dict, ignore_index = True)\n",
      "/var/folders/45/y4_7bsn91fx5ltkk45x0wzpc0000gn/T/ipykernel_50780/2642664573.py:6: FutureWarning: The frame.append method is deprecated and will be removed from pandas in a future version. Use pandas.concat instead.\n",
      "  data_set = data_set.append(product_dict, ignore_index = True)\n",
      "/var/folders/45/y4_7bsn91fx5ltkk45x0wzpc0000gn/T/ipykernel_50780/2642664573.py:6: FutureWarning: The frame.append method is deprecated and will be removed from pandas in a future version. Use pandas.concat instead.\n",
      "  data_set = data_set.append(product_dict, ignore_index = True)\n",
      "/var/folders/45/y4_7bsn91fx5ltkk45x0wzpc0000gn/T/ipykernel_50780/2642664573.py:6: FutureWarning: The frame.append method is deprecated and will be removed from pandas in a future version. Use pandas.concat instead.\n",
      "  data_set = data_set.append(product_dict, ignore_index = True)\n",
      "/var/folders/45/y4_7bsn91fx5ltkk45x0wzpc0000gn/T/ipykernel_50780/2642664573.py:6: FutureWarning: The frame.append method is deprecated and will be removed from pandas in a future version. Use pandas.concat instead.\n",
      "  data_set = data_set.append(product_dict, ignore_index = True)\n",
      "/var/folders/45/y4_7bsn91fx5ltkk45x0wzpc0000gn/T/ipykernel_50780/2642664573.py:6: FutureWarning: The frame.append method is deprecated and will be removed from pandas in a future version. Use pandas.concat instead.\n",
      "  data_set = data_set.append(product_dict, ignore_index = True)\n",
      "/var/folders/45/y4_7bsn91fx5ltkk45x0wzpc0000gn/T/ipykernel_50780/2642664573.py:6: FutureWarning: The frame.append method is deprecated and will be removed from pandas in a future version. Use pandas.concat instead.\n",
      "  data_set = data_set.append(product_dict, ignore_index = True)\n",
      "/var/folders/45/y4_7bsn91fx5ltkk45x0wzpc0000gn/T/ipykernel_50780/2642664573.py:6: FutureWarning: The frame.append method is deprecated and will be removed from pandas in a future version. Use pandas.concat instead.\n",
      "  data_set = data_set.append(product_dict, ignore_index = True)\n",
      "/var/folders/45/y4_7bsn91fx5ltkk45x0wzpc0000gn/T/ipykernel_50780/2642664573.py:6: FutureWarning: The frame.append method is deprecated and will be removed from pandas in a future version. Use pandas.concat instead.\n",
      "  data_set = data_set.append(product_dict, ignore_index = True)\n",
      "/var/folders/45/y4_7bsn91fx5ltkk45x0wzpc0000gn/T/ipykernel_50780/2642664573.py:6: FutureWarning: The frame.append method is deprecated and will be removed from pandas in a future version. Use pandas.concat instead.\n",
      "  data_set = data_set.append(product_dict, ignore_index = True)\n",
      "/var/folders/45/y4_7bsn91fx5ltkk45x0wzpc0000gn/T/ipykernel_50780/2642664573.py:6: FutureWarning: The frame.append method is deprecated and will be removed from pandas in a future version. Use pandas.concat instead.\n",
      "  data_set = data_set.append(product_dict, ignore_index = True)\n",
      "/var/folders/45/y4_7bsn91fx5ltkk45x0wzpc0000gn/T/ipykernel_50780/2642664573.py:6: FutureWarning: The frame.append method is deprecated and will be removed from pandas in a future version. Use pandas.concat instead.\n",
      "  data_set = data_set.append(product_dict, ignore_index = True)\n",
      "/var/folders/45/y4_7bsn91fx5ltkk45x0wzpc0000gn/T/ipykernel_50780/2642664573.py:6: FutureWarning: The frame.append method is deprecated and will be removed from pandas in a future version. Use pandas.concat instead.\n",
      "  data_set = data_set.append(product_dict, ignore_index = True)\n",
      "/var/folders/45/y4_7bsn91fx5ltkk45x0wzpc0000gn/T/ipykernel_50780/2642664573.py:6: FutureWarning: The frame.append method is deprecated and will be removed from pandas in a future version. Use pandas.concat instead.\n",
      "  data_set = data_set.append(product_dict, ignore_index = True)\n",
      "/var/folders/45/y4_7bsn91fx5ltkk45x0wzpc0000gn/T/ipykernel_50780/2642664573.py:6: FutureWarning: The frame.append method is deprecated and will be removed from pandas in a future version. Use pandas.concat instead.\n",
      "  data_set = data_set.append(product_dict, ignore_index = True)\n",
      "/var/folders/45/y4_7bsn91fx5ltkk45x0wzpc0000gn/T/ipykernel_50780/2642664573.py:6: FutureWarning: The frame.append method is deprecated and will be removed from pandas in a future version. Use pandas.concat instead.\n",
      "  data_set = data_set.append(product_dict, ignore_index = True)\n"
     ]
    },
    {
     "name": "stderr",
     "output_type": "stream",
     "text": [
      "/var/folders/45/y4_7bsn91fx5ltkk45x0wzpc0000gn/T/ipykernel_50780/2642664573.py:6: FutureWarning: The frame.append method is deprecated and will be removed from pandas in a future version. Use pandas.concat instead.\n",
      "  data_set = data_set.append(product_dict, ignore_index = True)\n",
      "/var/folders/45/y4_7bsn91fx5ltkk45x0wzpc0000gn/T/ipykernel_50780/2642664573.py:6: FutureWarning: The frame.append method is deprecated and will be removed from pandas in a future version. Use pandas.concat instead.\n",
      "  data_set = data_set.append(product_dict, ignore_index = True)\n",
      "/var/folders/45/y4_7bsn91fx5ltkk45x0wzpc0000gn/T/ipykernel_50780/2642664573.py:6: FutureWarning: The frame.append method is deprecated and will be removed from pandas in a future version. Use pandas.concat instead.\n",
      "  data_set = data_set.append(product_dict, ignore_index = True)\n",
      "/var/folders/45/y4_7bsn91fx5ltkk45x0wzpc0000gn/T/ipykernel_50780/2642664573.py:6: FutureWarning: The frame.append method is deprecated and will be removed from pandas in a future version. Use pandas.concat instead.\n",
      "  data_set = data_set.append(product_dict, ignore_index = True)\n",
      "/var/folders/45/y4_7bsn91fx5ltkk45x0wzpc0000gn/T/ipykernel_50780/2642664573.py:6: FutureWarning: The frame.append method is deprecated and will be removed from pandas in a future version. Use pandas.concat instead.\n",
      "  data_set = data_set.append(product_dict, ignore_index = True)\n",
      "/var/folders/45/y4_7bsn91fx5ltkk45x0wzpc0000gn/T/ipykernel_50780/2642664573.py:6: FutureWarning: The frame.append method is deprecated and will be removed from pandas in a future version. Use pandas.concat instead.\n",
      "  data_set = data_set.append(product_dict, ignore_index = True)\n",
      "/var/folders/45/y4_7bsn91fx5ltkk45x0wzpc0000gn/T/ipykernel_50780/2642664573.py:6: FutureWarning: The frame.append method is deprecated and will be removed from pandas in a future version. Use pandas.concat instead.\n",
      "  data_set = data_set.append(product_dict, ignore_index = True)\n",
      "/var/folders/45/y4_7bsn91fx5ltkk45x0wzpc0000gn/T/ipykernel_50780/2642664573.py:6: FutureWarning: The frame.append method is deprecated and will be removed from pandas in a future version. Use pandas.concat instead.\n",
      "  data_set = data_set.append(product_dict, ignore_index = True)\n",
      "/var/folders/45/y4_7bsn91fx5ltkk45x0wzpc0000gn/T/ipykernel_50780/2642664573.py:6: FutureWarning: The frame.append method is deprecated and will be removed from pandas in a future version. Use pandas.concat instead.\n",
      "  data_set = data_set.append(product_dict, ignore_index = True)\n",
      "/var/folders/45/y4_7bsn91fx5ltkk45x0wzpc0000gn/T/ipykernel_50780/2642664573.py:6: FutureWarning: The frame.append method is deprecated and will be removed from pandas in a future version. Use pandas.concat instead.\n",
      "  data_set = data_set.append(product_dict, ignore_index = True)\n",
      "/var/folders/45/y4_7bsn91fx5ltkk45x0wzpc0000gn/T/ipykernel_50780/2642664573.py:6: FutureWarning: The frame.append method is deprecated and will be removed from pandas in a future version. Use pandas.concat instead.\n",
      "  data_set = data_set.append(product_dict, ignore_index = True)\n",
      "/var/folders/45/y4_7bsn91fx5ltkk45x0wzpc0000gn/T/ipykernel_50780/2642664573.py:6: FutureWarning: The frame.append method is deprecated and will be removed from pandas in a future version. Use pandas.concat instead.\n",
      "  data_set = data_set.append(product_dict, ignore_index = True)\n",
      "/var/folders/45/y4_7bsn91fx5ltkk45x0wzpc0000gn/T/ipykernel_50780/2642664573.py:6: FutureWarning: The frame.append method is deprecated and will be removed from pandas in a future version. Use pandas.concat instead.\n",
      "  data_set = data_set.append(product_dict, ignore_index = True)\n",
      "/var/folders/45/y4_7bsn91fx5ltkk45x0wzpc0000gn/T/ipykernel_50780/2642664573.py:6: FutureWarning: The frame.append method is deprecated and will be removed from pandas in a future version. Use pandas.concat instead.\n",
      "  data_set = data_set.append(product_dict, ignore_index = True)\n",
      "/var/folders/45/y4_7bsn91fx5ltkk45x0wzpc0000gn/T/ipykernel_50780/2642664573.py:6: FutureWarning: The frame.append method is deprecated and will be removed from pandas in a future version. Use pandas.concat instead.\n",
      "  data_set = data_set.append(product_dict, ignore_index = True)\n",
      "/var/folders/45/y4_7bsn91fx5ltkk45x0wzpc0000gn/T/ipykernel_50780/2642664573.py:6: FutureWarning: The frame.append method is deprecated and will be removed from pandas in a future version. Use pandas.concat instead.\n",
      "  data_set = data_set.append(product_dict, ignore_index = True)\n",
      "/var/folders/45/y4_7bsn91fx5ltkk45x0wzpc0000gn/T/ipykernel_50780/2642664573.py:6: FutureWarning: The frame.append method is deprecated and will be removed from pandas in a future version. Use pandas.concat instead.\n",
      "  data_set = data_set.append(product_dict, ignore_index = True)\n",
      "/var/folders/45/y4_7bsn91fx5ltkk45x0wzpc0000gn/T/ipykernel_50780/2642664573.py:6: FutureWarning: The frame.append method is deprecated and will be removed from pandas in a future version. Use pandas.concat instead.\n",
      "  data_set = data_set.append(product_dict, ignore_index = True)\n",
      "/var/folders/45/y4_7bsn91fx5ltkk45x0wzpc0000gn/T/ipykernel_50780/2642664573.py:6: FutureWarning: The frame.append method is deprecated and will be removed from pandas in a future version. Use pandas.concat instead.\n",
      "  data_set = data_set.append(product_dict, ignore_index = True)\n",
      "/var/folders/45/y4_7bsn91fx5ltkk45x0wzpc0000gn/T/ipykernel_50780/2642664573.py:6: FutureWarning: The frame.append method is deprecated and will be removed from pandas in a future version. Use pandas.concat instead.\n",
      "  data_set = data_set.append(product_dict, ignore_index = True)\n",
      "/var/folders/45/y4_7bsn91fx5ltkk45x0wzpc0000gn/T/ipykernel_50780/2642664573.py:6: FutureWarning: The frame.append method is deprecated and will be removed from pandas in a future version. Use pandas.concat instead.\n",
      "  data_set = data_set.append(product_dict, ignore_index = True)\n",
      "/var/folders/45/y4_7bsn91fx5ltkk45x0wzpc0000gn/T/ipykernel_50780/2642664573.py:6: FutureWarning: The frame.append method is deprecated and will be removed from pandas in a future version. Use pandas.concat instead.\n",
      "  data_set = data_set.append(product_dict, ignore_index = True)\n",
      "/var/folders/45/y4_7bsn91fx5ltkk45x0wzpc0000gn/T/ipykernel_50780/2642664573.py:6: FutureWarning: The frame.append method is deprecated and will be removed from pandas in a future version. Use pandas.concat instead.\n",
      "  data_set = data_set.append(product_dict, ignore_index = True)\n",
      "/var/folders/45/y4_7bsn91fx5ltkk45x0wzpc0000gn/T/ipykernel_50780/2642664573.py:6: FutureWarning: The frame.append method is deprecated and will be removed from pandas in a future version. Use pandas.concat instead.\n",
      "  data_set = data_set.append(product_dict, ignore_index = True)\n",
      "/var/folders/45/y4_7bsn91fx5ltkk45x0wzpc0000gn/T/ipykernel_50780/2642664573.py:6: FutureWarning: The frame.append method is deprecated and will be removed from pandas in a future version. Use pandas.concat instead.\n",
      "  data_set = data_set.append(product_dict, ignore_index = True)\n"
     ]
    }
   ],
   "source": [
    "# Going to the product page\n",
    "for product_url in products_url:\n",
    "    product_html = requests.get(product_url)\n",
    "    product_soup = BeautifulSoup(product_html.content, \"html.parser\")\n",
    "    product_dict = get_information(data_dict, product_soup, product_url, watches_per_collection)\n",
    "    data_set = data_set.append(product_dict, ignore_index = True)\n",
    "    data_dict = {column : \"\" for column in data_set.columns}"
   ]
  },
  {
   "cell_type": "code",
   "execution_count": 652,
   "id": "f7af348d",
   "metadata": {},
   "outputs": [],
   "source": [
    "data_set.to_csv(\"Graham_Watches.csv\")"
   ]
  }
 ],
 "metadata": {
  "kernelspec": {
   "display_name": "Python 3 (ipykernel)",
   "language": "python",
   "name": "python3"
  },
  "language_info": {
   "codemirror_mode": {
    "name": "ipython",
    "version": 3
   },
   "file_extension": ".py",
   "mimetype": "text/x-python",
   "name": "python",
   "nbconvert_exporter": "python",
   "pygments_lexer": "ipython3",
   "version": "3.9.13"
  }
 },
 "nbformat": 4,
 "nbformat_minor": 5
}
