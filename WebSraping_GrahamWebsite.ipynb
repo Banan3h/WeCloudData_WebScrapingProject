{
 "cells": [
  {
   "cell_type": "markdown",
   "id": "41a6b0a8",
   "metadata": {},
   "source": [
    "# Web Scraping Project"
   ]
  },
  {
   "cell_type": "markdown",
   "id": "527feff6",
   "metadata": {},
   "source": [
    "## Graham Website "
   ]
  },
  {
   "cell_type": "code",
   "execution_count": 73,
   "id": "7f013028",
   "metadata": {},
   "outputs": [],
   "source": [
    "# Importing Libraries\n",
    "import requests\n",
    "from bs4 import BeautifulSoup\n",
    "from lxml import etree\n",
    "import pandas as pd "
   ]
  },
  {
   "cell_type": "markdown",
   "id": "4b55f76d",
   "metadata": {},
   "source": [
    "### Parsing Graham Webpage "
   ]
  },
  {
   "cell_type": "code",
   "execution_count": 145,
   "id": "b67b8b07",
   "metadata": {},
   "outputs": [],
   "source": [
    "# Parsing URL\n",
    "main_url = 'https://graham1695.com'\n",
    "main_html = requests.get(main_url)\n",
    "main_soup = BeautifulSoup(main_html.content, \"html.parser\")"
   ]
  },
  {
   "cell_type": "markdown",
   "id": "65731d46",
   "metadata": {},
   "source": [
    "### Parsing The Webpage of All The Watches "
   ]
  },
  {
   "cell_type": "code",
   "execution_count": 146,
   "id": "88ecfe04",
   "metadata": {},
   "outputs": [],
   "source": [
    "for a in main_soup.find_all(\"a\", href=True):\n",
    "    if \"find my graham\" in str(a).lower():\n",
    "        break"
   ]
  },
  {
   "cell_type": "code",
   "execution_count": 147,
   "id": "df52424e",
   "metadata": {},
   "outputs": [],
   "source": [
    "url_ext = str(a)[str(a).find(\"href=\")+len(\"href=\"):str(a).find(\">\")].replace('\"',\"\")\n",
    "url = main_url+url_ext"
   ]
  },
  {
   "cell_type": "code",
   "execution_count": 148,
   "id": "5ef33ac5",
   "metadata": {},
   "outputs": [],
   "source": [
    "html = requests.get(url)\n",
    "soup = BeautifulSoup(html.content, \"html.parser\")"
   ]
  },
  {
   "cell_type": "markdown",
   "id": "15d3a24d",
   "metadata": {},
   "source": [
    "#### Parsing The Pages"
   ]
  },
  {
   "cell_type": "code",
   "execution_count": 157,
   "id": "bcd7b7cd",
   "metadata": {
    "scrolled": false
   },
   "outputs": [],
   "source": [
    "# Rotating through the pages\n",
    "pages_element = soup.find_all(\"span\", attrs={\"class\": \"page\"})\n",
    "pages_url = [watches_url]\n",
    "for element in pages_element:\n",
    "    a = element.find_all(\"a\", href=True)\n",
    "    if a != []:\n",
    "        pages_url.append(main_url+str(a[0])[str(a).find('\"'):str(a).find(\">\")-2])"
   ]
  },
  {
   "cell_type": "markdown",
   "id": "633eeaae",
   "metadata": {},
   "source": [
    "#### Parsing The Products Webpages"
   ]
  },
  {
   "cell_type": "code",
   "execution_count": 156,
   "id": "3523097c",
   "metadata": {},
   "outputs": [],
   "source": [
    "# Finding the products urls\n",
    "products_url = []\n",
    "for page_url in pages_url:\n",
    "    page_html = requests.get(page_url)\n",
    "    page_soup = BeautifulSoup(page_html.content, \"html.parser\")\n",
    "    products = page_soup.find_all(\"div\", attrs={\"class\": \"grid-product\"})\n",
    "    for i in range(len(products)):\n",
    "        a = str(products[i].find_all(\"a\")[0])\n",
    "        products_url.append(main_url+a[a.find(\"href=\")+len(\"href=\"):a.find(\">\")].replace('\"',\"\"))\n",
    "products_url = list(set(products_url))"
   ]
  },
  {
   "cell_type": "markdown",
   "id": "b9519770",
   "metadata": {},
   "source": [
    "#### Parsing Watches Per Collection"
   ]
  },
  {
   "cell_type": "code",
   "execution_count": 528,
   "id": "d6bc951b",
   "metadata": {},
   "outputs": [],
   "source": [
    "collections = soup.find_all(\"div\", attrs={\"class\":\"collection-sidebar__group--1\"})[0].find_all(\"span\", attrs={\"class\":\"tag__text\"})\n",
    "collections = [collection.text for collection in collections]\n",
    "watches_per_collection = {collection: [] for collection in collections}"
   ]
  },
  {
   "cell_type": "code",
   "execution_count": 529,
   "id": "9baeb2b8",
   "metadata": {},
   "outputs": [],
   "source": [
    "for collection in collections:\n",
    "    filter_url = \"?filter.p.m.custom.collection=\"\n",
    "    collection_url = url+filter_url+collection.replace(\" \", \"+\")\n",
    "    collection_html = requests.get(collection_url)\n",
    "    collection_soup = BeautifulSoup(collection_html.content, \"html.parser\")\n",
    "    watches_element = collection_soup.find_all(\"div\", attrs={\"class\": \"collection-grid__wrapper\"})[0].find_all(\"div\", attrs={\"class\": \"grid-product\"})\n",
    "    watches_per_collection[collection].extend([watches_element[i].find(\"div\", attrs={\"class\": \"grid-product__title\"}).text for i in range(len(watches_element))])\n",
    "    next_page = collection_soup.find_all(\"span\", attrs={\"class\": \"page\"})\n",
    "    if next_page != []:\n",
    "        for page in next_page[1:]:\n",
    "            next_page_url = main_url+page.find(\"a\").attrs[\"href\"]\n",
    "            next_page_html = requests.get(next_page_url)\n",
    "            next_page_soup = BeautifulSoup(next_page_html.content, \"html.parser\")\n",
    "            watches_element = collection_soup.find_all(\"div\", attrs={\"class\": \"collection-grid__wrapper\"})[0].find_all(\"div\", attrs={\"class\": \"grid-product\"})\n",
    "            watches_per_collection[collection].extend([watches_element[i].find(\"div\", attrs={\"class\": \"grid-product__title\"}).text for i in range(len(watches_element))])\n"
   ]
  },
  {
   "cell_type": "markdown",
   "id": "d0d42282",
   "metadata": {},
   "source": [
    "### Accessing All The Products Webpages"
   ]
  },
  {
   "cell_type": "code",
   "execution_count": 161,
   "id": "f66aa53b",
   "metadata": {},
   "outputs": [],
   "source": [
    "# Going to the product page\n",
    "product_url = products_url[0]\n",
    "product_html = requests.get(product_url)\n",
    "product_soup = BeautifulSoup(product_html.content, \"html.parser\")"
   ]
  },
  {
   "cell_type": "code",
   "execution_count": 188,
   "id": "962766d2",
   "metadata": {},
   "outputs": [],
   "source": [
    "# Getting the csv template\n",
    "data_set = pd.read_csv(\"Graham - Test Scrapes - Sample Data.csv\")\n",
    "data_set = data_set.iloc[: , 1:]\n",
    "data_set = data_set.drop([0,1])\n",
    "data_dict = {column : [] for column in data_set.columns}"
   ]
  },
  {
   "cell_type": "markdown",
   "id": "cf13ffc8",
   "metadata": {},
   "source": [
    "#### Obtaining The Required Information"
   ]
  },
  {
   "cell_type": "code",
   "execution_count": 553,
   "id": "0da2ffba",
   "metadata": {},
   "outputs": [],
   "source": [
    "def get_information(dct, soup, url, collections):\n",
    "    # reference number\n",
    "    dct[\"reference_number\"].append(soup.find_all(attrs={\"class\": \"product-single__sku\"})[0].text.replace(\"\\n\",\"\"))\n",
    "    # watch url\n",
    "    dct[\"watch_URL\"].append(url)\n",
    "    # brand\n",
    "    dct[\"brand\"].append(\"Graham\")\n",
    "    # parent model\n",
    "    for key in collections.keys():\n",
    "        if data_dict[\"specific_model\"][0] in collections[key][0]:\n",
    "            dct[\"parent_model\"].append(\"\")\n",
    "    # specific model\n",
    "    dct[\"specific_model\"].append(soup.find_all(\"h1\")[0].text.replace(\"\\n\",\"\"))\n",
    "    # nickname\n",
    "    dct[\"nickname\"].append(soup.find_all(\"h1\")[0].text.replace(\"\\n\",\"\"))\n",
    "    # marketing name\n",
    "    for h2 in soup.find_all(\"h2\"):\n",
    "        if \"LIMITED EDITION\" in h2.text:\n",
    "            dct[\"marketing_name\"].append(\"Limited Edition\")\n",
    "    # currency and price\n",
    "    symbol = soup.find_all(attrs={\"class\": \"product__price\"})[0].text.replace(\"\\n\",\"\")[0]\n",
    "    price = soup.find_all(attrs={\"class\": \"product__price\"})[0].text.replace(\"\\n\",\"\")[1:]\n",
    "    if symbol == \"$\":\n",
    "        currency = \"USD\"\n",
    "    elif symbol == \"€\":\n",
    "        currency = \"EUR\"\n",
    "    elif symbol == \"C\":\n",
    "        currency = \"CHF\"\n",
    "        price = soup.find_all(attrs={\"class\": \"product__price\"})[0].text.replace(\"\\n\",\"\")[4:]\n",
    "    else:\n",
    "        currency = \"\"\n",
    "    dct[\"currency\"].append(currency)\n",
    "    dct[\"price\"].append(price)\n",
    "    # image url\n",
    "    for img in soup.find_all(\"img\"):\n",
    "        if dct[\"specific_model\"][0] in str(img):\n",
    "            break\n",
    "    img_url = str(img)[str(img).find(\"data-photoswipe-src=\")+len(\"data-photoswipe-src=\")\n",
    "                 :str(img).find(\"data-photoswipe-src=\")+str(img)[str(img).find(\"data-photoswipe-src=\"):].find(\" \")\n",
    "                        ].replace('\"',\"\").replace(\"//\",\"\")\n",
    "    dct[\"image_URL\"].append(img_url)\n",
    "    # made in\n",
    "    dct[\"made_in\"].append(\"Switzerland\")\n",
    "    # descriprion\n",
    "    element = soup.find_all(\"div\", attrs={\"class\": \"filter-result-content\"})[0]\n",
    "    description = []\n",
    "    while True:\n",
    "        if element.name == \"div\":\n",
    "            element = element.find_next()\n",
    "            continue\n",
    "        elif element.name == \"p\":\n",
    "            description.append(element.text)\n",
    "            element = element.find_next()\n",
    "        else:\n",
    "            break\n",
    "    dct[\"description\"].extend(description)\n",
    "    # short descriprion\n",
    "    for element in soup.find_all(\"div\", attrs={\"class\": \"rte\"}):\n",
    "        if \"TECHNICAL SHEET AVAILABLE HERE\" in str(element):\n",
    "            a = str(element.find(\"a\"))\n",
    "            break\n",
    "    pdf_url = a[a.find(\"href=\")+len(\"href=\")+1: a.find(\" title\")-len(\" title\")]\n",
    "    dct[\"short_description\"].append(pdf_url)\n",
    "    # returning the information\n",
    "    return dct"
   ]
  },
  {
   "cell_type": "code",
   "execution_count": null,
   "id": "b30e77dc",
   "metadata": {},
   "outputs": [],
   "source": []
  },
  {
   "cell_type": "code",
   "execution_count": null,
   "id": "5378f8e5",
   "metadata": {},
   "outputs": [],
   "source": []
  },
  {
   "cell_type": "code",
   "execution_count": null,
   "id": "7a99eb52",
   "metadata": {},
   "outputs": [],
   "source": []
  },
  {
   "cell_type": "code",
   "execution_count": null,
   "id": "3efe23b9",
   "metadata": {},
   "outputs": [],
   "source": []
  },
  {
   "cell_type": "code",
   "execution_count": 471,
   "id": "c1230513",
   "metadata": {},
   "outputs": [
    {
     "data": {
      "text/plain": [
       "{'reference_number': ['2CVDS.U18A-2'],\n",
       " 'watch_URL': ['https://graham1695.com/collections/new-collection/products/chronofighter-grand-vintage-blue'],\n",
       " 'type': [],\n",
       " 'brand': ['Graham'],\n",
       " 'year_introduced': [],\n",
       " 'parent_model': [],\n",
       " 'specific_model': ['CHRONOFIGHTER GRAND VINTAGE ARABIC NUMERALS BLUE'],\n",
       " 'nickname': ['CHRONOFIGHTER GRAND VINTAGE ARABIC NUMERALS BLUE'],\n",
       " 'marketing_name': [],\n",
       " 'style': [],\n",
       " 'currency': ['USD'],\n",
       " 'price': ['7,950.00'],\n",
       " 'image_URL': ['graham1695.com/cdn/shop/products/GRAHAMWATCHESCHRONOFIGHTERGRANDVINTAGEARABICNUMERALS2CVDS.U18A_1800x1800.png?v=1673279793'],\n",
       " 'made_in': ['Switzerland'],\n",
       " 'case_shape': [],\n",
       " 'case_material': [],\n",
       " 'case_finish': [],\n",
       " 'caseback': [],\n",
       " 'diameter': [],\n",
       " 'between_lugs': [],\n",
       " 'lug_to_lug': [],\n",
       " 'case_thickness': [],\n",
       " 'bezel_material': [],\n",
       " 'bezel_color': [],\n",
       " 'crystal': [],\n",
       " 'water_resistance': [],\n",
       " 'weight': [],\n",
       " 'dial_color': [],\n",
       " 'numerals': [],\n",
       " 'bracelet_material': [],\n",
       " 'bracelet_color': [],\n",
       " 'clasp_type': [],\n",
       " 'movement': [],\n",
       " 'caliber': [],\n",
       " 'power_reserve': [],\n",
       " 'frequency': [],\n",
       " 'jewels': [],\n",
       " 'features': [],\n",
       " 'description': ['The Grand Vintage Chronofighter is made for confident individuals who choose to make a statement.',\n",
       "  'Presented in a generously proportioned 47mm steel case, this chronograph delivers impressive wrist presence. The overall scale of the watch, with the large dial aperture, provides much room for each indication to lucidly converse with the wearer.\\xa0\\xa0',\n",
       "  \"The thumb-operated trigger, positioned on the left flank of the case, proves highly intuitive to use. Its design and location facilitate quick operation of the chronograph functions, ensuring recorded times faithfully represent the duration of an event. In addition, the design and location of the crown and trigger ensemble contribute to the model's impressive wearer comfort.\",\n",
       "  \"Since the inaugural version of the Grand Vintage Chronofighter was released, Graham has produced various limited-edition variants. Some models have celebrated Swiss traditions, while other creations have featured a graffiti-themed laser-engraved sapphire crystal. Once again, Graham's remarkable creativity is manifest.\"],\n",
       " 'short_description': ['https://cdn.shopify.com/s/files/1/0274/0921/9648/files/CHRONOFIGHTER_GRAND_VINTAGE_ARABIC_NUMERALS_-_technical_features_-_2CVDS.U18A_BLUE_49c65a81-f680-4a49-8cd3-8bdb88fbfd51.pdf?v=16503',\n",
       "  'https://cdn.shopify.com/s/files/1/0274/0921/9648/files/CHRONOFIGHTER_GRAND_VINTAGE_ARABIC_NUMERALS_-_technical_features_-_2CVDS.U18A_BLUE_49c65a81-f680-4a49-8cd3-8bdb88fbfd51.pdf?v=16503']}"
      ]
     },
     "execution_count": 471,
     "metadata": {},
     "output_type": "execute_result"
    }
   ],
   "source": [
    "data_dict"
   ]
  },
  {
   "cell_type": "code",
   "execution_count": null,
   "id": "fe04e6c8",
   "metadata": {},
   "outputs": [],
   "source": []
  },
  {
   "cell_type": "code",
   "execution_count": null,
   "id": "76e9180c",
   "metadata": {},
   "outputs": [],
   "source": []
  }
 ],
 "metadata": {
  "kernelspec": {
   "display_name": "Python 3 (ipykernel)",
   "language": "python",
   "name": "python3"
  },
  "language_info": {
   "codemirror_mode": {
    "name": "ipython",
    "version": 3
   },
   "file_extension": ".py",
   "mimetype": "text/x-python",
   "name": "python",
   "nbconvert_exporter": "python",
   "pygments_lexer": "ipython3",
   "version": "3.9.13"
  }
 },
 "nbformat": 4,
 "nbformat_minor": 5
}
